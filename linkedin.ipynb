{
 "cells": [
  {
   "cell_type": "code",
   "execution_count": 1,
   "id": "e8ded12e",
   "metadata": {},
   "outputs": [],
   "source": [
    "import pandas as pd"
   ]
  },
  {
   "cell_type": "code",
   "execution_count": 45,
   "id": "6e92c8aa",
   "metadata": {},
   "outputs": [],
   "source": [
    "data={'id':[1,2,3,4,5,6,7,8,9,10],\n",
    "      'name':['Saumya','Sarika','Disha','Ravi','Arjun','Priya','Vivek','Neha','karan','Isha'],\n",
    "      'Age':[25,30,28,32,26,27,35,29,31,24],\n",
    "      'Gender':['M','F','F','M','M','F','M','F','M','F'],\n",
    "      'department':['HR','IT','FINANCE','IT','MARKETING','HR','FINANCE','IT','MARKETING','IT'],\n",
    "      'Ocupation':['manager','engineer','analyst','developer','executive','executive','analyst','engineer','manager','intern'],\n",
    "      'Salary':[75000,80000,72000,None,60000,65000,85000,79000,83000,30000],\n",
    "      'Experience':[3,5,4,6,2,3,None,4,7,0]\n",
    "      }\n",
    "df=pd.DataFrame(data)"
   ]
  },
  {
   "cell_type": "code",
   "execution_count": 54,
   "id": "3ac06799",
   "metadata": {},
   "outputs": [
    {
     "data": {
      "text/html": [
       "<div>\n",
       "<style scoped>\n",
       "    .dataframe tbody tr th:only-of-type {\n",
       "        vertical-align: middle;\n",
       "    }\n",
       "\n",
       "    .dataframe tbody tr th {\n",
       "        vertical-align: top;\n",
       "    }\n",
       "\n",
       "    .dataframe thead th {\n",
       "        text-align: right;\n",
       "    }\n",
       "</style>\n",
       "<table border=\"1\" class=\"dataframe\">\n",
       "  <thead>\n",
       "    <tr style=\"text-align: right;\">\n",
       "      <th></th>\n",
       "      <th>id</th>\n",
       "      <th>name</th>\n",
       "      <th>Age</th>\n",
       "      <th>Gender</th>\n",
       "      <th>department</th>\n",
       "      <th>Ocupation</th>\n",
       "      <th>Salary</th>\n",
       "      <th>Experience</th>\n",
       "    </tr>\n",
       "  </thead>\n",
       "  <tbody>\n",
       "    <tr>\n",
       "      <th>0</th>\n",
       "      <td>1</td>\n",
       "      <td>Saumya</td>\n",
       "      <td>25</td>\n",
       "      <td>M</td>\n",
       "      <td>HR</td>\n",
       "      <td>manager</td>\n",
       "      <td>75000.0</td>\n",
       "      <td>3.0</td>\n",
       "    </tr>\n",
       "    <tr>\n",
       "      <th>1</th>\n",
       "      <td>2</td>\n",
       "      <td>Sarika</td>\n",
       "      <td>30</td>\n",
       "      <td>F</td>\n",
       "      <td>IT</td>\n",
       "      <td>engineer</td>\n",
       "      <td>80000.0</td>\n",
       "      <td>5.0</td>\n",
       "    </tr>\n",
       "    <tr>\n",
       "      <th>2</th>\n",
       "      <td>3</td>\n",
       "      <td>Disha</td>\n",
       "      <td>28</td>\n",
       "      <td>F</td>\n",
       "      <td>FINANCE</td>\n",
       "      <td>analyst</td>\n",
       "      <td>72000.0</td>\n",
       "      <td>4.0</td>\n",
       "    </tr>\n",
       "    <tr>\n",
       "      <th>3</th>\n",
       "      <td>4</td>\n",
       "      <td>Ravi</td>\n",
       "      <td>32</td>\n",
       "      <td>M</td>\n",
       "      <td>IT</td>\n",
       "      <td>developer</td>\n",
       "      <td>81000.0</td>\n",
       "      <td>6.0</td>\n",
       "    </tr>\n",
       "    <tr>\n",
       "      <th>4</th>\n",
       "      <td>5</td>\n",
       "      <td>Arjun</td>\n",
       "      <td>26</td>\n",
       "      <td>M</td>\n",
       "      <td>MARKETING</td>\n",
       "      <td>executive</td>\n",
       "      <td>60000.0</td>\n",
       "      <td>2.0</td>\n",
       "    </tr>\n",
       "    <tr>\n",
       "      <th>5</th>\n",
       "      <td>6</td>\n",
       "      <td>Priya</td>\n",
       "      <td>27</td>\n",
       "      <td>F</td>\n",
       "      <td>HR</td>\n",
       "      <td>executive</td>\n",
       "      <td>65000.0</td>\n",
       "      <td>3.0</td>\n",
       "    </tr>\n",
       "    <tr>\n",
       "      <th>6</th>\n",
       "      <td>7</td>\n",
       "      <td>Vivek</td>\n",
       "      <td>35</td>\n",
       "      <td>M</td>\n",
       "      <td>FINANCE</td>\n",
       "      <td>analyst</td>\n",
       "      <td>85000.0</td>\n",
       "      <td>NaN</td>\n",
       "    </tr>\n",
       "    <tr>\n",
       "      <th>7</th>\n",
       "      <td>8</td>\n",
       "      <td>Neha</td>\n",
       "      <td>29</td>\n",
       "      <td>F</td>\n",
       "      <td>IT</td>\n",
       "      <td>engineer</td>\n",
       "      <td>79000.0</td>\n",
       "      <td>4.0</td>\n",
       "    </tr>\n",
       "    <tr>\n",
       "      <th>8</th>\n",
       "      <td>9</td>\n",
       "      <td>karan</td>\n",
       "      <td>31</td>\n",
       "      <td>M</td>\n",
       "      <td>MARKETING</td>\n",
       "      <td>manager</td>\n",
       "      <td>83000.0</td>\n",
       "      <td>7.0</td>\n",
       "    </tr>\n",
       "    <tr>\n",
       "      <th>9</th>\n",
       "      <td>10</td>\n",
       "      <td>Isha</td>\n",
       "      <td>24</td>\n",
       "      <td>F</td>\n",
       "      <td>IT</td>\n",
       "      <td>intern</td>\n",
       "      <td>30000.0</td>\n",
       "      <td>0.0</td>\n",
       "    </tr>\n",
       "  </tbody>\n",
       "</table>\n",
       "</div>"
      ],
      "text/plain": [
       "   id    name  Age Gender department  Ocupation   Salary  Experience\n",
       "0   1  Saumya   25      M         HR    manager  75000.0         3.0\n",
       "1   2  Sarika   30      F         IT   engineer  80000.0         5.0\n",
       "2   3   Disha   28      F    FINANCE    analyst  72000.0         4.0\n",
       "3   4    Ravi   32      M         IT  developer  81000.0         6.0\n",
       "4   5   Arjun   26      M  MARKETING  executive  60000.0         2.0\n",
       "5   6   Priya   27      F         HR  executive  65000.0         3.0\n",
       "6   7   Vivek   35      M    FINANCE    analyst  85000.0         NaN\n",
       "7   8    Neha   29      F         IT   engineer  79000.0         4.0\n",
       "8   9   karan   31      M  MARKETING    manager  83000.0         7.0\n",
       "9  10    Isha   24      F         IT     intern  30000.0         0.0"
      ]
     },
     "execution_count": 54,
     "metadata": {},
     "output_type": "execute_result"
    }
   ],
   "source": [
    "df"
   ]
  },
  {
   "cell_type": "code",
   "execution_count": 14,
   "id": "250ae6a9",
   "metadata": {},
   "outputs": [
    {
     "data": {
      "text/html": [
       "<div>\n",
       "<style scoped>\n",
       "    .dataframe tbody tr th:only-of-type {\n",
       "        vertical-align: middle;\n",
       "    }\n",
       "\n",
       "    .dataframe tbody tr th {\n",
       "        vertical-align: top;\n",
       "    }\n",
       "\n",
       "    .dataframe thead th {\n",
       "        text-align: right;\n",
       "    }\n",
       "</style>\n",
       "<table border=\"1\" class=\"dataframe\">\n",
       "  <thead>\n",
       "    <tr style=\"text-align: right;\">\n",
       "      <th></th>\n",
       "      <th>id</th>\n",
       "      <th>name</th>\n",
       "      <th>Age</th>\n",
       "      <th>Gender</th>\n",
       "      <th>department</th>\n",
       "      <th>Ocupation</th>\n",
       "      <th>Salary</th>\n",
       "      <th>Experience</th>\n",
       "    </tr>\n",
       "  </thead>\n",
       "  <tbody>\n",
       "    <tr>\n",
       "      <th>3</th>\n",
       "      <td>4</td>\n",
       "      <td>Ravi</td>\n",
       "      <td>32</td>\n",
       "      <td>M</td>\n",
       "      <td>IT</td>\n",
       "      <td>developer</td>\n",
       "      <td>NaN</td>\n",
       "      <td>6.0</td>\n",
       "    </tr>\n",
       "  </tbody>\n",
       "</table>\n",
       "</div>"
      ],
      "text/plain": [
       "   id  name  Age Gender department  Ocupation  Salary  Experience\n",
       "3   4  Ravi   32      M         IT  developer     NaN         6.0"
      ]
     },
     "execution_count": 14,
     "metadata": {},
     "output_type": "execute_result"
    }
   ],
   "source": [
    "# finding empty values \n",
    "df[df['Salary'].isnull()]"
   ]
  },
  {
   "cell_type": "code",
   "execution_count": 57,
   "id": "67ab1e6c",
   "metadata": {},
   "outputs": [
    {
     "data": {
      "text/plain": [
       "0    3.0\n",
       "1    5.0\n",
       "2    4.0\n",
       "3    6.0\n",
       "4    2.0\n",
       "5    3.0\n",
       "6    5.0\n",
       "7    4.0\n",
       "8    7.0\n",
       "9    0.0\n",
       "Name: Experience, dtype: float64"
      ]
     },
     "execution_count": 57,
     "metadata": {},
     "output_type": "execute_result"
    }
   ],
   "source": [
    "df['Experience'].fillna(5)"
   ]
  },
  {
   "cell_type": "code",
   "execution_count": 49,
   "id": "34b2bebc",
   "metadata": {},
   "outputs": [
    {
     "data": {
      "text/plain": [
       "0    75000.0\n",
       "1    80000.0\n",
       "2    72000.0\n",
       "3    81000.0\n",
       "4    60000.0\n",
       "5    65000.0\n",
       "6    85000.0\n",
       "7    79000.0\n",
       "8    83000.0\n",
       "9    30000.0\n",
       "Name: Salary, dtype: float64"
      ]
     },
     "execution_count": 49,
     "metadata": {},
     "output_type": "execute_result"
    }
   ],
   "source": [
    "# lets fill the value in the empty value\n",
    "df['Salary'].fillna(81000)"
   ]
  },
  {
   "cell_type": "code",
   "execution_count": 50,
   "id": "f92ffbe5",
   "metadata": {},
   "outputs": [
    {
     "data": {
      "text/html": [
       "<div>\n",
       "<style scoped>\n",
       "    .dataframe tbody tr th:only-of-type {\n",
       "        vertical-align: middle;\n",
       "    }\n",
       "\n",
       "    .dataframe tbody tr th {\n",
       "        vertical-align: top;\n",
       "    }\n",
       "\n",
       "    .dataframe thead th {\n",
       "        text-align: right;\n",
       "    }\n",
       "</style>\n",
       "<table border=\"1\" class=\"dataframe\">\n",
       "  <thead>\n",
       "    <tr style=\"text-align: right;\">\n",
       "      <th></th>\n",
       "      <th>id</th>\n",
       "      <th>name</th>\n",
       "      <th>Age</th>\n",
       "      <th>Gender</th>\n",
       "      <th>department</th>\n",
       "      <th>Ocupation</th>\n",
       "      <th>Salary</th>\n",
       "      <th>Experience</th>\n",
       "    </tr>\n",
       "  </thead>\n",
       "  <tbody>\n",
       "    <tr>\n",
       "      <th>3</th>\n",
       "      <td>4</td>\n",
       "      <td>Ravi</td>\n",
       "      <td>32</td>\n",
       "      <td>M</td>\n",
       "      <td>IT</td>\n",
       "      <td>developer</td>\n",
       "      <td>81000.0</td>\n",
       "      <td>6.0</td>\n",
       "    </tr>\n",
       "  </tbody>\n",
       "</table>\n",
       "</div>"
      ],
      "text/plain": [
       "   id  name  Age Gender department  Ocupation   Salary  Experience\n",
       "3   4  Ravi   32      M         IT  developer  81000.0         6.0"
      ]
     },
     "execution_count": 50,
     "metadata": {},
     "output_type": "execute_result"
    }
   ],
   "source": [
    "#accessing the row with name\n",
    "df[df['name']=='Ravi']"
   ]
  },
  {
   "cell_type": "code",
   "execution_count": 17,
   "id": "b58c0977",
   "metadata": {},
   "outputs": [
    {
     "data": {
      "text/plain": [
       "id                  1\n",
       "name           Saumya\n",
       "Age                25\n",
       "Gender              M\n",
       "department         HR\n",
       "Ocupation     manager\n",
       "Salary        75000.0\n",
       "Experience        3.0\n",
       "Name: 0, dtype: object"
      ]
     },
     "execution_count": 17,
     "metadata": {},
     "output_type": "execute_result"
    }
   ],
   "source": [
    "# accessing with diffrent indexes\n",
    "df.iloc[0]"
   ]
  },
  {
   "cell_type": "code",
   "execution_count": 20,
   "id": "def52dab",
   "metadata": {},
   "outputs": [
    {
     "data": {
      "text/plain": [
       "'Saumya'"
      ]
     },
     "execution_count": 20,
     "metadata": {},
     "output_type": "execute_result"
    }
   ],
   "source": [
    "# accessing with coloumns name\n",
    "df.loc[0]['name']"
   ]
  },
  {
   "cell_type": "code",
   "execution_count": 21,
   "id": "05755d1d",
   "metadata": {},
   "outputs": [
    {
     "data": {
      "text/html": [
       "<div>\n",
       "<style scoped>\n",
       "    .dataframe tbody tr th:only-of-type {\n",
       "        vertical-align: middle;\n",
       "    }\n",
       "\n",
       "    .dataframe tbody tr th {\n",
       "        vertical-align: top;\n",
       "    }\n",
       "\n",
       "    .dataframe thead th {\n",
       "        text-align: right;\n",
       "    }\n",
       "</style>\n",
       "<table border=\"1\" class=\"dataframe\">\n",
       "  <thead>\n",
       "    <tr style=\"text-align: right;\">\n",
       "      <th></th>\n",
       "      <th>id</th>\n",
       "      <th>name</th>\n",
       "      <th>Age</th>\n",
       "      <th>Gender</th>\n",
       "      <th>department</th>\n",
       "      <th>Ocupation</th>\n",
       "      <th>Salary</th>\n",
       "      <th>Experience</th>\n",
       "    </tr>\n",
       "  </thead>\n",
       "  <tbody>\n",
       "    <tr>\n",
       "      <th>1</th>\n",
       "      <td>2</td>\n",
       "      <td>Sarika</td>\n",
       "      <td>30</td>\n",
       "      <td>F</td>\n",
       "      <td>IT</td>\n",
       "      <td>engineer</td>\n",
       "      <td>80000.0</td>\n",
       "      <td>5.0</td>\n",
       "    </tr>\n",
       "    <tr>\n",
       "      <th>6</th>\n",
       "      <td>7</td>\n",
       "      <td>Vivek</td>\n",
       "      <td>35</td>\n",
       "      <td>M</td>\n",
       "      <td>FINANCE</td>\n",
       "      <td>analyst</td>\n",
       "      <td>85000.0</td>\n",
       "      <td>NaN</td>\n",
       "    </tr>\n",
       "    <tr>\n",
       "      <th>7</th>\n",
       "      <td>8</td>\n",
       "      <td>Neha</td>\n",
       "      <td>29</td>\n",
       "      <td>F</td>\n",
       "      <td>IT</td>\n",
       "      <td>engineer</td>\n",
       "      <td>79000.0</td>\n",
       "      <td>4.0</td>\n",
       "    </tr>\n",
       "    <tr>\n",
       "      <th>8</th>\n",
       "      <td>9</td>\n",
       "      <td>karan</td>\n",
       "      <td>31</td>\n",
       "      <td>M</td>\n",
       "      <td>MARKETING</td>\n",
       "      <td>manager</td>\n",
       "      <td>83000.0</td>\n",
       "      <td>7.0</td>\n",
       "    </tr>\n",
       "  </tbody>\n",
       "</table>\n",
       "</div>"
      ],
      "text/plain": [
       "   id    name  Age Gender department Ocupation   Salary  Experience\n",
       "1   2  Sarika   30      F         IT  engineer  80000.0         5.0\n",
       "6   7   Vivek   35      M    FINANCE   analyst  85000.0         NaN\n",
       "7   8    Neha   29      F         IT  engineer  79000.0         4.0\n",
       "8   9   karan   31      M  MARKETING   manager  83000.0         7.0"
      ]
     },
     "execution_count": 21,
     "metadata": {},
     "output_type": "execute_result"
    }
   ],
   "source": [
    "# all the kind of filterings\n",
    "df[df['Salary']>75000]"
   ]
  },
  {
   "cell_type": "code",
   "execution_count": 58,
   "id": "69085ff8",
   "metadata": {},
   "outputs": [
    {
     "data": {
      "text/html": [
       "<div>\n",
       "<style scoped>\n",
       "    .dataframe tbody tr th:only-of-type {\n",
       "        vertical-align: middle;\n",
       "    }\n",
       "\n",
       "    .dataframe tbody tr th {\n",
       "        vertical-align: top;\n",
       "    }\n",
       "\n",
       "    .dataframe thead th {\n",
       "        text-align: right;\n",
       "    }\n",
       "</style>\n",
       "<table border=\"1\" class=\"dataframe\">\n",
       "  <thead>\n",
       "    <tr style=\"text-align: right;\">\n",
       "      <th></th>\n",
       "      <th>id</th>\n",
       "      <th>name</th>\n",
       "      <th>Age</th>\n",
       "      <th>Gender</th>\n",
       "      <th>department</th>\n",
       "      <th>Ocupation</th>\n",
       "      <th>Salary</th>\n",
       "      <th>Experience</th>\n",
       "    </tr>\n",
       "  </thead>\n",
       "  <tbody>\n",
       "    <tr>\n",
       "      <th>0</th>\n",
       "      <td>1</td>\n",
       "      <td>Saumya</td>\n",
       "      <td>25</td>\n",
       "      <td>M</td>\n",
       "      <td>HR</td>\n",
       "      <td>manager</td>\n",
       "      <td>75000.0</td>\n",
       "      <td>3.0</td>\n",
       "    </tr>\n",
       "    <tr>\n",
       "      <th>1</th>\n",
       "      <td>2</td>\n",
       "      <td>Sarika</td>\n",
       "      <td>30</td>\n",
       "      <td>F</td>\n",
       "      <td>IT</td>\n",
       "      <td>engineer</td>\n",
       "      <td>80000.0</td>\n",
       "      <td>5.0</td>\n",
       "    </tr>\n",
       "    <tr>\n",
       "      <th>2</th>\n",
       "      <td>3</td>\n",
       "      <td>Disha</td>\n",
       "      <td>28</td>\n",
       "      <td>F</td>\n",
       "      <td>FINANCE</td>\n",
       "      <td>analyst</td>\n",
       "      <td>72000.0</td>\n",
       "      <td>4.0</td>\n",
       "    </tr>\n",
       "    <tr>\n",
       "      <th>3</th>\n",
       "      <td>4</td>\n",
       "      <td>Ravi</td>\n",
       "      <td>32</td>\n",
       "      <td>M</td>\n",
       "      <td>IT</td>\n",
       "      <td>developer</td>\n",
       "      <td>81000.0</td>\n",
       "      <td>6.0</td>\n",
       "    </tr>\n",
       "    <tr>\n",
       "      <th>4</th>\n",
       "      <td>5</td>\n",
       "      <td>Arjun</td>\n",
       "      <td>26</td>\n",
       "      <td>M</td>\n",
       "      <td>MARKETING</td>\n",
       "      <td>executive</td>\n",
       "      <td>60000.0</td>\n",
       "      <td>2.0</td>\n",
       "    </tr>\n",
       "    <tr>\n",
       "      <th>5</th>\n",
       "      <td>6</td>\n",
       "      <td>Priya</td>\n",
       "      <td>27</td>\n",
       "      <td>F</td>\n",
       "      <td>HR</td>\n",
       "      <td>executive</td>\n",
       "      <td>65000.0</td>\n",
       "      <td>3.0</td>\n",
       "    </tr>\n",
       "    <tr>\n",
       "      <th>6</th>\n",
       "      <td>7</td>\n",
       "      <td>Vivek</td>\n",
       "      <td>35</td>\n",
       "      <td>M</td>\n",
       "      <td>FINANCE</td>\n",
       "      <td>analyst</td>\n",
       "      <td>85000.0</td>\n",
       "      <td>5.0</td>\n",
       "    </tr>\n",
       "    <tr>\n",
       "      <th>7</th>\n",
       "      <td>8</td>\n",
       "      <td>Neha</td>\n",
       "      <td>29</td>\n",
       "      <td>F</td>\n",
       "      <td>IT</td>\n",
       "      <td>engineer</td>\n",
       "      <td>79000.0</td>\n",
       "      <td>4.0</td>\n",
       "    </tr>\n",
       "    <tr>\n",
       "      <th>8</th>\n",
       "      <td>9</td>\n",
       "      <td>karan</td>\n",
       "      <td>31</td>\n",
       "      <td>M</td>\n",
       "      <td>MARKETING</td>\n",
       "      <td>manager</td>\n",
       "      <td>83000.0</td>\n",
       "      <td>7.0</td>\n",
       "    </tr>\n",
       "    <tr>\n",
       "      <th>9</th>\n",
       "      <td>10</td>\n",
       "      <td>Isha</td>\n",
       "      <td>24</td>\n",
       "      <td>F</td>\n",
       "      <td>IT</td>\n",
       "      <td>intern</td>\n",
       "      <td>30000.0</td>\n",
       "      <td>0.0</td>\n",
       "    </tr>\n",
       "  </tbody>\n",
       "</table>\n",
       "</div>"
      ],
      "text/plain": [
       "   id    name  Age Gender department  Ocupation   Salary  Experience\n",
       "0   1  Saumya   25      M         HR    manager  75000.0         3.0\n",
       "1   2  Sarika   30      F         IT   engineer  80000.0         5.0\n",
       "2   3   Disha   28      F    FINANCE    analyst  72000.0         4.0\n",
       "3   4    Ravi   32      M         IT  developer  81000.0         6.0\n",
       "4   5   Arjun   26      M  MARKETING  executive  60000.0         2.0\n",
       "5   6   Priya   27      F         HR  executive  65000.0         3.0\n",
       "6   7   Vivek   35      M    FINANCE    analyst  85000.0         5.0\n",
       "7   8    Neha   29      F         IT   engineer  79000.0         4.0\n",
       "8   9   karan   31      M  MARKETING    manager  83000.0         7.0\n",
       "9  10    Isha   24      F         IT     intern  30000.0         0.0"
      ]
     },
     "execution_count": 58,
     "metadata": {},
     "output_type": "execute_result"
    }
   ],
   "source": [
    "df"
   ]
  },
  {
   "cell_type": "code",
   "execution_count": 31,
   "id": "94c4e902",
   "metadata": {},
   "outputs": [],
   "source": [
    "df.loc[6,'Experience']=3.0"
   ]
  },
  {
   "cell_type": "code",
   "execution_count": 60,
   "id": "cc0c810f",
   "metadata": {},
   "outputs": [
    {
     "data": {
      "text/html": [
       "<div>\n",
       "<style scoped>\n",
       "    .dataframe tbody tr th:only-of-type {\n",
       "        vertical-align: middle;\n",
       "    }\n",
       "\n",
       "    .dataframe tbody tr th {\n",
       "        vertical-align: top;\n",
       "    }\n",
       "\n",
       "    .dataframe thead th {\n",
       "        text-align: right;\n",
       "    }\n",
       "</style>\n",
       "<table border=\"1\" class=\"dataframe\">\n",
       "  <thead>\n",
       "    <tr style=\"text-align: right;\">\n",
       "      <th></th>\n",
       "      <th>id</th>\n",
       "      <th>name</th>\n",
       "      <th>Age</th>\n",
       "      <th>Gender</th>\n",
       "      <th>department</th>\n",
       "      <th>Ocupation</th>\n",
       "      <th>Salary</th>\n",
       "      <th>Experience</th>\n",
       "    </tr>\n",
       "  </thead>\n",
       "  <tbody>\n",
       "    <tr>\n",
       "      <th>0</th>\n",
       "      <td>1</td>\n",
       "      <td>Saumya</td>\n",
       "      <td>25</td>\n",
       "      <td>M</td>\n",
       "      <td>HR</td>\n",
       "      <td>manager</td>\n",
       "      <td>75000.0</td>\n",
       "      <td>3.0</td>\n",
       "    </tr>\n",
       "    <tr>\n",
       "      <th>8</th>\n",
       "      <td>9</td>\n",
       "      <td>karan</td>\n",
       "      <td>31</td>\n",
       "      <td>M</td>\n",
       "      <td>MARKETING</td>\n",
       "      <td>manager</td>\n",
       "      <td>83000.0</td>\n",
       "      <td>7.0</td>\n",
       "    </tr>\n",
       "  </tbody>\n",
       "</table>\n",
       "</div>"
      ],
      "text/plain": [
       "   id    name  Age Gender department Ocupation   Salary  Experience\n",
       "0   1  Saumya   25      M         HR   manager  75000.0         3.0\n",
       "8   9   karan   31      M  MARKETING   manager  83000.0         7.0"
      ]
     },
     "execution_count": 60,
     "metadata": {},
     "output_type": "execute_result"
    }
   ],
   "source": [
    "df[df['Ocupation']=='manager']"
   ]
  },
  {
   "cell_type": "code",
   "execution_count": 59,
   "id": "cc99f0d8",
   "metadata": {},
   "outputs": [
    {
     "data": {
      "text/plain": [
       "department\n",
       "FINANCE      78500.0\n",
       "HR           70000.0\n",
       "IT           67500.0\n",
       "MARKETING    71500.0\n",
       "Name: Salary, dtype: float64"
      ]
     },
     "execution_count": 59,
     "metadata": {},
     "output_type": "execute_result"
    }
   ],
   "source": [
    "df.groupby('department')['Salary'].mean()"
   ]
  },
  {
   "cell_type": "code",
   "execution_count": null,
   "id": "5d491e8a",
   "metadata": {},
   "outputs": [],
   "source": [
    "# making of a new coloumn\n",
    "df['bonus']=df['Salary']/10"
   ]
  },
  {
   "cell_type": "code",
   "execution_count": 62,
   "id": "5494fa54",
   "metadata": {},
   "outputs": [
    {
     "data": {
      "text/html": [
       "<div>\n",
       "<style scoped>\n",
       "    .dataframe tbody tr th:only-of-type {\n",
       "        vertical-align: middle;\n",
       "    }\n",
       "\n",
       "    .dataframe tbody tr th {\n",
       "        vertical-align: top;\n",
       "    }\n",
       "\n",
       "    .dataframe thead th {\n",
       "        text-align: right;\n",
       "    }\n",
       "</style>\n",
       "<table border=\"1\" class=\"dataframe\">\n",
       "  <thead>\n",
       "    <tr style=\"text-align: right;\">\n",
       "      <th></th>\n",
       "      <th>id</th>\n",
       "      <th>name</th>\n",
       "      <th>Age</th>\n",
       "      <th>Gender</th>\n",
       "      <th>department</th>\n",
       "      <th>Ocupation</th>\n",
       "      <th>Salary</th>\n",
       "      <th>Experience</th>\n",
       "      <th>bonus</th>\n",
       "    </tr>\n",
       "  </thead>\n",
       "  <tbody>\n",
       "    <tr>\n",
       "      <th>0</th>\n",
       "      <td>1</td>\n",
       "      <td>Saumya</td>\n",
       "      <td>25</td>\n",
       "      <td>M</td>\n",
       "      <td>HR</td>\n",
       "      <td>manager</td>\n",
       "      <td>75000.0</td>\n",
       "      <td>3.0</td>\n",
       "      <td>7500.0</td>\n",
       "    </tr>\n",
       "    <tr>\n",
       "      <th>1</th>\n",
       "      <td>2</td>\n",
       "      <td>Sarika</td>\n",
       "      <td>30</td>\n",
       "      <td>F</td>\n",
       "      <td>IT</td>\n",
       "      <td>engineer</td>\n",
       "      <td>80000.0</td>\n",
       "      <td>5.0</td>\n",
       "      <td>8000.0</td>\n",
       "    </tr>\n",
       "    <tr>\n",
       "      <th>2</th>\n",
       "      <td>3</td>\n",
       "      <td>Disha</td>\n",
       "      <td>28</td>\n",
       "      <td>F</td>\n",
       "      <td>FINANCE</td>\n",
       "      <td>analyst</td>\n",
       "      <td>72000.0</td>\n",
       "      <td>4.0</td>\n",
       "      <td>7200.0</td>\n",
       "    </tr>\n",
       "    <tr>\n",
       "      <th>3</th>\n",
       "      <td>4</td>\n",
       "      <td>Ravi</td>\n",
       "      <td>32</td>\n",
       "      <td>M</td>\n",
       "      <td>IT</td>\n",
       "      <td>developer</td>\n",
       "      <td>81000.0</td>\n",
       "      <td>6.0</td>\n",
       "      <td>8100.0</td>\n",
       "    </tr>\n",
       "    <tr>\n",
       "      <th>4</th>\n",
       "      <td>5</td>\n",
       "      <td>Arjun</td>\n",
       "      <td>26</td>\n",
       "      <td>M</td>\n",
       "      <td>MARKETING</td>\n",
       "      <td>executive</td>\n",
       "      <td>60000.0</td>\n",
       "      <td>2.0</td>\n",
       "      <td>6000.0</td>\n",
       "    </tr>\n",
       "    <tr>\n",
       "      <th>5</th>\n",
       "      <td>6</td>\n",
       "      <td>Priya</td>\n",
       "      <td>27</td>\n",
       "      <td>F</td>\n",
       "      <td>HR</td>\n",
       "      <td>executive</td>\n",
       "      <td>65000.0</td>\n",
       "      <td>3.0</td>\n",
       "      <td>6500.0</td>\n",
       "    </tr>\n",
       "    <tr>\n",
       "      <th>6</th>\n",
       "      <td>7</td>\n",
       "      <td>Vivek</td>\n",
       "      <td>35</td>\n",
       "      <td>M</td>\n",
       "      <td>FINANCE</td>\n",
       "      <td>analyst</td>\n",
       "      <td>85000.0</td>\n",
       "      <td>5.0</td>\n",
       "      <td>8500.0</td>\n",
       "    </tr>\n",
       "    <tr>\n",
       "      <th>7</th>\n",
       "      <td>8</td>\n",
       "      <td>Neha</td>\n",
       "      <td>29</td>\n",
       "      <td>F</td>\n",
       "      <td>IT</td>\n",
       "      <td>engineer</td>\n",
       "      <td>79000.0</td>\n",
       "      <td>4.0</td>\n",
       "      <td>7900.0</td>\n",
       "    </tr>\n",
       "    <tr>\n",
       "      <th>8</th>\n",
       "      <td>9</td>\n",
       "      <td>karan</td>\n",
       "      <td>31</td>\n",
       "      <td>M</td>\n",
       "      <td>MARKETING</td>\n",
       "      <td>manager</td>\n",
       "      <td>83000.0</td>\n",
       "      <td>7.0</td>\n",
       "      <td>8300.0</td>\n",
       "    </tr>\n",
       "    <tr>\n",
       "      <th>9</th>\n",
       "      <td>10</td>\n",
       "      <td>Isha</td>\n",
       "      <td>24</td>\n",
       "      <td>F</td>\n",
       "      <td>IT</td>\n",
       "      <td>intern</td>\n",
       "      <td>30000.0</td>\n",
       "      <td>0.0</td>\n",
       "      <td>3000.0</td>\n",
       "    </tr>\n",
       "  </tbody>\n",
       "</table>\n",
       "</div>"
      ],
      "text/plain": [
       "   id    name  Age Gender department  Ocupation   Salary  Experience   bonus\n",
       "0   1  Saumya   25      M         HR    manager  75000.0         3.0  7500.0\n",
       "1   2  Sarika   30      F         IT   engineer  80000.0         5.0  8000.0\n",
       "2   3   Disha   28      F    FINANCE    analyst  72000.0         4.0  7200.0\n",
       "3   4    Ravi   32      M         IT  developer  81000.0         6.0  8100.0\n",
       "4   5   Arjun   26      M  MARKETING  executive  60000.0         2.0  6000.0\n",
       "5   6   Priya   27      F         HR  executive  65000.0         3.0  6500.0\n",
       "6   7   Vivek   35      M    FINANCE    analyst  85000.0         5.0  8500.0\n",
       "7   8    Neha   29      F         IT   engineer  79000.0         4.0  7900.0\n",
       "8   9   karan   31      M  MARKETING    manager  83000.0         7.0  8300.0\n",
       "9  10    Isha   24      F         IT     intern  30000.0         0.0  3000.0"
      ]
     },
     "execution_count": 62,
     "metadata": {},
     "output_type": "execute_result"
    }
   ],
   "source": [
    "df"
   ]
  },
  {
   "cell_type": "code",
   "execution_count": null,
   "id": "f27de832",
   "metadata": {},
   "outputs": [
    {
     "data": {
      "text/html": [
       "<div>\n",
       "<style scoped>\n",
       "    .dataframe tbody tr th:only-of-type {\n",
       "        vertical-align: middle;\n",
       "    }\n",
       "\n",
       "    .dataframe tbody tr th {\n",
       "        vertical-align: top;\n",
       "    }\n",
       "\n",
       "    .dataframe thead th {\n",
       "        text-align: right;\n",
       "    }\n",
       "</style>\n",
       "<table border=\"1\" class=\"dataframe\">\n",
       "  <thead>\n",
       "    <tr style=\"text-align: right;\">\n",
       "      <th></th>\n",
       "      <th>id</th>\n",
       "      <th>name</th>\n",
       "      <th>Age</th>\n",
       "      <th>Gender</th>\n",
       "      <th>department</th>\n",
       "      <th>Ocupation</th>\n",
       "      <th>Salary</th>\n",
       "      <th>Experience</th>\n",
       "      <th>bonus</th>\n",
       "    </tr>\n",
       "  </thead>\n",
       "  <tbody>\n",
       "    <tr>\n",
       "      <th>9</th>\n",
       "      <td>10</td>\n",
       "      <td>Isha</td>\n",
       "      <td>24</td>\n",
       "      <td>F</td>\n",
       "      <td>IT</td>\n",
       "      <td>intern</td>\n",
       "      <td>30000.0</td>\n",
       "      <td>0.0</td>\n",
       "      <td>3000.0</td>\n",
       "    </tr>\n",
       "    <tr>\n",
       "      <th>4</th>\n",
       "      <td>5</td>\n",
       "      <td>Arjun</td>\n",
       "      <td>26</td>\n",
       "      <td>M</td>\n",
       "      <td>MARKETING</td>\n",
       "      <td>executive</td>\n",
       "      <td>60000.0</td>\n",
       "      <td>2.0</td>\n",
       "      <td>6000.0</td>\n",
       "    </tr>\n",
       "    <tr>\n",
       "      <th>5</th>\n",
       "      <td>6</td>\n",
       "      <td>Priya</td>\n",
       "      <td>27</td>\n",
       "      <td>F</td>\n",
       "      <td>HR</td>\n",
       "      <td>executive</td>\n",
       "      <td>65000.0</td>\n",
       "      <td>3.0</td>\n",
       "      <td>6500.0</td>\n",
       "    </tr>\n",
       "    <tr>\n",
       "      <th>0</th>\n",
       "      <td>1</td>\n",
       "      <td>Saumya</td>\n",
       "      <td>25</td>\n",
       "      <td>M</td>\n",
       "      <td>HR</td>\n",
       "      <td>manager</td>\n",
       "      <td>75000.0</td>\n",
       "      <td>3.0</td>\n",
       "      <td>7500.0</td>\n",
       "    </tr>\n",
       "    <tr>\n",
       "      <th>7</th>\n",
       "      <td>8</td>\n",
       "      <td>Neha</td>\n",
       "      <td>29</td>\n",
       "      <td>F</td>\n",
       "      <td>IT</td>\n",
       "      <td>engineer</td>\n",
       "      <td>79000.0</td>\n",
       "      <td>4.0</td>\n",
       "      <td>7900.0</td>\n",
       "    </tr>\n",
       "    <tr>\n",
       "      <th>2</th>\n",
       "      <td>3</td>\n",
       "      <td>Disha</td>\n",
       "      <td>28</td>\n",
       "      <td>F</td>\n",
       "      <td>FINANCE</td>\n",
       "      <td>analyst</td>\n",
       "      <td>72000.0</td>\n",
       "      <td>4.0</td>\n",
       "      <td>7200.0</td>\n",
       "    </tr>\n",
       "    <tr>\n",
       "      <th>6</th>\n",
       "      <td>7</td>\n",
       "      <td>Vivek</td>\n",
       "      <td>35</td>\n",
       "      <td>M</td>\n",
       "      <td>FINANCE</td>\n",
       "      <td>analyst</td>\n",
       "      <td>85000.0</td>\n",
       "      <td>5.0</td>\n",
       "      <td>8500.0</td>\n",
       "    </tr>\n",
       "    <tr>\n",
       "      <th>1</th>\n",
       "      <td>2</td>\n",
       "      <td>Sarika</td>\n",
       "      <td>30</td>\n",
       "      <td>F</td>\n",
       "      <td>IT</td>\n",
       "      <td>engineer</td>\n",
       "      <td>80000.0</td>\n",
       "      <td>5.0</td>\n",
       "      <td>8000.0</td>\n",
       "    </tr>\n",
       "    <tr>\n",
       "      <th>3</th>\n",
       "      <td>4</td>\n",
       "      <td>Ravi</td>\n",
       "      <td>32</td>\n",
       "      <td>M</td>\n",
       "      <td>IT</td>\n",
       "      <td>developer</td>\n",
       "      <td>81000.0</td>\n",
       "      <td>6.0</td>\n",
       "      <td>8100.0</td>\n",
       "    </tr>\n",
       "    <tr>\n",
       "      <th>8</th>\n",
       "      <td>9</td>\n",
       "      <td>karan</td>\n",
       "      <td>31</td>\n",
       "      <td>M</td>\n",
       "      <td>MARKETING</td>\n",
       "      <td>manager</td>\n",
       "      <td>83000.0</td>\n",
       "      <td>7.0</td>\n",
       "      <td>8300.0</td>\n",
       "    </tr>\n",
       "  </tbody>\n",
       "</table>\n",
       "</div>"
      ],
      "text/plain": [
       "   id    name  Age Gender department  Ocupation   Salary  Experience   bonus\n",
       "9  10    Isha   24      F         IT     intern  30000.0         0.0  3000.0\n",
       "4   5   Arjun   26      M  MARKETING  executive  60000.0         2.0  6000.0\n",
       "5   6   Priya   27      F         HR  executive  65000.0         3.0  6500.0\n",
       "0   1  Saumya   25      M         HR    manager  75000.0         3.0  7500.0\n",
       "7   8    Neha   29      F         IT   engineer  79000.0         4.0  7900.0\n",
       "2   3   Disha   28      F    FINANCE    analyst  72000.0         4.0  7200.0\n",
       "6   7   Vivek   35      M    FINANCE    analyst  85000.0         5.0  8500.0\n",
       "1   2  Sarika   30      F         IT   engineer  80000.0         5.0  8000.0\n",
       "3   4    Ravi   32      M         IT  developer  81000.0         6.0  8100.0\n",
       "8   9   karan   31      M  MARKETING    manager  83000.0         7.0  8300.0"
      ]
     },
     "execution_count": 63,
     "metadata": {},
     "output_type": "execute_result"
    }
   ],
   "source": [
    "# sorting\n",
    "df.sort_values('Experience')"
   ]
  },
  {
   "cell_type": "code",
   "execution_count": 64,
   "id": "5662f64a",
   "metadata": {},
   "outputs": [],
   "source": [
    "df['level']=df['Age'].apply(lambda x: 'junior' if x<=25 else('mid' if x<=30 else 'senior'))"
   ]
  },
  {
   "cell_type": "code",
   "execution_count": 65,
   "id": "58a93951",
   "metadata": {},
   "outputs": [
    {
     "data": {
      "text/html": [
       "<div>\n",
       "<style scoped>\n",
       "    .dataframe tbody tr th:only-of-type {\n",
       "        vertical-align: middle;\n",
       "    }\n",
       "\n",
       "    .dataframe tbody tr th {\n",
       "        vertical-align: top;\n",
       "    }\n",
       "\n",
       "    .dataframe thead th {\n",
       "        text-align: right;\n",
       "    }\n",
       "</style>\n",
       "<table border=\"1\" class=\"dataframe\">\n",
       "  <thead>\n",
       "    <tr style=\"text-align: right;\">\n",
       "      <th></th>\n",
       "      <th>id</th>\n",
       "      <th>name</th>\n",
       "      <th>Age</th>\n",
       "      <th>Gender</th>\n",
       "      <th>department</th>\n",
       "      <th>Ocupation</th>\n",
       "      <th>Salary</th>\n",
       "      <th>Experience</th>\n",
       "      <th>bonus</th>\n",
       "      <th>level</th>\n",
       "    </tr>\n",
       "  </thead>\n",
       "  <tbody>\n",
       "    <tr>\n",
       "      <th>0</th>\n",
       "      <td>1</td>\n",
       "      <td>Saumya</td>\n",
       "      <td>25</td>\n",
       "      <td>M</td>\n",
       "      <td>HR</td>\n",
       "      <td>manager</td>\n",
       "      <td>75000.0</td>\n",
       "      <td>3.0</td>\n",
       "      <td>7500.0</td>\n",
       "      <td>junior</td>\n",
       "    </tr>\n",
       "    <tr>\n",
       "      <th>1</th>\n",
       "      <td>2</td>\n",
       "      <td>Sarika</td>\n",
       "      <td>30</td>\n",
       "      <td>F</td>\n",
       "      <td>IT</td>\n",
       "      <td>engineer</td>\n",
       "      <td>80000.0</td>\n",
       "      <td>5.0</td>\n",
       "      <td>8000.0</td>\n",
       "      <td>mid</td>\n",
       "    </tr>\n",
       "    <tr>\n",
       "      <th>2</th>\n",
       "      <td>3</td>\n",
       "      <td>Disha</td>\n",
       "      <td>28</td>\n",
       "      <td>F</td>\n",
       "      <td>FINANCE</td>\n",
       "      <td>analyst</td>\n",
       "      <td>72000.0</td>\n",
       "      <td>4.0</td>\n",
       "      <td>7200.0</td>\n",
       "      <td>mid</td>\n",
       "    </tr>\n",
       "    <tr>\n",
       "      <th>3</th>\n",
       "      <td>4</td>\n",
       "      <td>Ravi</td>\n",
       "      <td>32</td>\n",
       "      <td>M</td>\n",
       "      <td>IT</td>\n",
       "      <td>developer</td>\n",
       "      <td>81000.0</td>\n",
       "      <td>6.0</td>\n",
       "      <td>8100.0</td>\n",
       "      <td>senior</td>\n",
       "    </tr>\n",
       "    <tr>\n",
       "      <th>4</th>\n",
       "      <td>5</td>\n",
       "      <td>Arjun</td>\n",
       "      <td>26</td>\n",
       "      <td>M</td>\n",
       "      <td>MARKETING</td>\n",
       "      <td>executive</td>\n",
       "      <td>60000.0</td>\n",
       "      <td>2.0</td>\n",
       "      <td>6000.0</td>\n",
       "      <td>mid</td>\n",
       "    </tr>\n",
       "    <tr>\n",
       "      <th>5</th>\n",
       "      <td>6</td>\n",
       "      <td>Priya</td>\n",
       "      <td>27</td>\n",
       "      <td>F</td>\n",
       "      <td>HR</td>\n",
       "      <td>executive</td>\n",
       "      <td>65000.0</td>\n",
       "      <td>3.0</td>\n",
       "      <td>6500.0</td>\n",
       "      <td>mid</td>\n",
       "    </tr>\n",
       "    <tr>\n",
       "      <th>6</th>\n",
       "      <td>7</td>\n",
       "      <td>Vivek</td>\n",
       "      <td>35</td>\n",
       "      <td>M</td>\n",
       "      <td>FINANCE</td>\n",
       "      <td>analyst</td>\n",
       "      <td>85000.0</td>\n",
       "      <td>5.0</td>\n",
       "      <td>8500.0</td>\n",
       "      <td>senior</td>\n",
       "    </tr>\n",
       "    <tr>\n",
       "      <th>7</th>\n",
       "      <td>8</td>\n",
       "      <td>Neha</td>\n",
       "      <td>29</td>\n",
       "      <td>F</td>\n",
       "      <td>IT</td>\n",
       "      <td>engineer</td>\n",
       "      <td>79000.0</td>\n",
       "      <td>4.0</td>\n",
       "      <td>7900.0</td>\n",
       "      <td>mid</td>\n",
       "    </tr>\n",
       "    <tr>\n",
       "      <th>8</th>\n",
       "      <td>9</td>\n",
       "      <td>karan</td>\n",
       "      <td>31</td>\n",
       "      <td>M</td>\n",
       "      <td>MARKETING</td>\n",
       "      <td>manager</td>\n",
       "      <td>83000.0</td>\n",
       "      <td>7.0</td>\n",
       "      <td>8300.0</td>\n",
       "      <td>senior</td>\n",
       "    </tr>\n",
       "    <tr>\n",
       "      <th>9</th>\n",
       "      <td>10</td>\n",
       "      <td>Isha</td>\n",
       "      <td>24</td>\n",
       "      <td>F</td>\n",
       "      <td>IT</td>\n",
       "      <td>intern</td>\n",
       "      <td>30000.0</td>\n",
       "      <td>0.0</td>\n",
       "      <td>3000.0</td>\n",
       "      <td>junior</td>\n",
       "    </tr>\n",
       "  </tbody>\n",
       "</table>\n",
       "</div>"
      ],
      "text/plain": [
       "   id    name  Age Gender department  Ocupation   Salary  Experience   bonus  \\\n",
       "0   1  Saumya   25      M         HR    manager  75000.0         3.0  7500.0   \n",
       "1   2  Sarika   30      F         IT   engineer  80000.0         5.0  8000.0   \n",
       "2   3   Disha   28      F    FINANCE    analyst  72000.0         4.0  7200.0   \n",
       "3   4    Ravi   32      M         IT  developer  81000.0         6.0  8100.0   \n",
       "4   5   Arjun   26      M  MARKETING  executive  60000.0         2.0  6000.0   \n",
       "5   6   Priya   27      F         HR  executive  65000.0         3.0  6500.0   \n",
       "6   7   Vivek   35      M    FINANCE    analyst  85000.0         5.0  8500.0   \n",
       "7   8    Neha   29      F         IT   engineer  79000.0         4.0  7900.0   \n",
       "8   9   karan   31      M  MARKETING    manager  83000.0         7.0  8300.0   \n",
       "9  10    Isha   24      F         IT     intern  30000.0         0.0  3000.0   \n",
       "\n",
       "    level  \n",
       "0  junior  \n",
       "1     mid  \n",
       "2     mid  \n",
       "3  senior  \n",
       "4     mid  \n",
       "5     mid  \n",
       "6  senior  \n",
       "7     mid  \n",
       "8  senior  \n",
       "9  junior  "
      ]
     },
     "execution_count": 65,
     "metadata": {},
     "output_type": "execute_result"
    }
   ],
   "source": [
    "df"
   ]
  },
  {
   "cell_type": "code",
   "execution_count": 66,
   "id": "85b6a4bc",
   "metadata": {},
   "outputs": [
    {
     "name": "stdout",
     "output_type": "stream",
     "text": [
      "Collecting seaborn\n",
      "  Downloading seaborn-0.13.2-py3-none-any.whl.metadata (5.4 kB)\n",
      "Requirement already satisfied: numpy!=1.24.0,>=1.20 in c:\\users\\saumya pathak\\appdata\\local\\programs\\python\\python312\\lib\\site-packages (from seaborn) (2.2.6)\n",
      "Requirement already satisfied: pandas>=1.2 in c:\\users\\saumya pathak\\appdata\\local\\programs\\python\\python312\\lib\\site-packages (from seaborn) (2.2.3)\n",
      "Requirement already satisfied: matplotlib!=3.6.1,>=3.4 in c:\\users\\saumya pathak\\appdata\\local\\programs\\python\\python312\\lib\\site-packages (from seaborn) (3.10.3)\n",
      "Requirement already satisfied: contourpy>=1.0.1 in c:\\users\\saumya pathak\\appdata\\local\\programs\\python\\python312\\lib\\site-packages (from matplotlib!=3.6.1,>=3.4->seaborn) (1.3.2)\n",
      "Requirement already satisfied: cycler>=0.10 in c:\\users\\saumya pathak\\appdata\\local\\programs\\python\\python312\\lib\\site-packages (from matplotlib!=3.6.1,>=3.4->seaborn) (0.12.1)\n",
      "Requirement already satisfied: fonttools>=4.22.0 in c:\\users\\saumya pathak\\appdata\\local\\programs\\python\\python312\\lib\\site-packages (from matplotlib!=3.6.1,>=3.4->seaborn) (4.58.0)\n",
      "Requirement already satisfied: kiwisolver>=1.3.1 in c:\\users\\saumya pathak\\appdata\\local\\programs\\python\\python312\\lib\\site-packages (from matplotlib!=3.6.1,>=3.4->seaborn) (1.4.8)\n",
      "Requirement already satisfied: packaging>=20.0 in c:\\users\\saumya pathak\\appdata\\roaming\\python\\python312\\site-packages (from matplotlib!=3.6.1,>=3.4->seaborn) (25.0)\n",
      "Requirement already satisfied: pillow>=8 in c:\\users\\saumya pathak\\appdata\\local\\programs\\python\\python312\\lib\\site-packages (from matplotlib!=3.6.1,>=3.4->seaborn) (11.2.1)\n",
      "Requirement already satisfied: pyparsing>=2.3.1 in c:\\users\\saumya pathak\\appdata\\local\\programs\\python\\python312\\lib\\site-packages (from matplotlib!=3.6.1,>=3.4->seaborn) (3.2.3)\n",
      "Requirement already satisfied: python-dateutil>=2.7 in c:\\users\\saumya pathak\\appdata\\roaming\\python\\python312\\site-packages (from matplotlib!=3.6.1,>=3.4->seaborn) (2.9.0.post0)\n",
      "Requirement already satisfied: pytz>=2020.1 in c:\\users\\saumya pathak\\appdata\\local\\programs\\python\\python312\\lib\\site-packages (from pandas>=1.2->seaborn) (2025.2)\n",
      "Requirement already satisfied: tzdata>=2022.7 in c:\\users\\saumya pathak\\appdata\\local\\programs\\python\\python312\\lib\\site-packages (from pandas>=1.2->seaborn) (2025.2)\n",
      "Requirement already satisfied: six>=1.5 in c:\\users\\saumya pathak\\appdata\\roaming\\python\\python312\\site-packages (from python-dateutil>=2.7->matplotlib!=3.6.1,>=3.4->seaborn) (1.17.0)\n",
      "Downloading seaborn-0.13.2-py3-none-any.whl (294 kB)\n",
      "   ---------------------------------------- 0.0/294.9 kB ? eta -:--:--\n",
      "   - -------------------------------------- 10.2/294.9 kB ? eta -:--:--\n",
      "   --------- ----------------------------- 71.7/294.9 kB 975.2 kB/s eta 0:00:01\n",
      "   ---------------------------------------- 294.9/294.9 kB 2.6 MB/s eta 0:00:00\n",
      "Installing collected packages: seaborn\n",
      "Successfully installed seaborn-0.13.2\n",
      "Note: you may need to restart the kernel to use updated packages.\n"
     ]
    },
    {
     "name": "stderr",
     "output_type": "stream",
     "text": [
      "\n",
      "[notice] A new release of pip is available: 24.0 -> 25.1.1\n",
      "[notice] To update, run: python.exe -m pip install --upgrade pip\n"
     ]
    }
   ],
   "source": [
    "pip install seaborn"
   ]
  },
  {
   "cell_type": "code",
   "execution_count": 67,
   "id": "cb488ba3",
   "metadata": {},
   "outputs": [],
   "source": [
    "import seaborn as sns"
   ]
  },
  {
   "cell_type": "code",
   "execution_count": 68,
   "id": "ca22deae",
   "metadata": {},
   "outputs": [],
   "source": [
    "import matplotlib.pyplot as plt"
   ]
  },
  {
   "cell_type": "code",
   "execution_count": 73,
   "id": "fd7acd02",
   "metadata": {},
   "outputs": [
    {
     "data": {
      "image/png": "[encoded data removed]",
      "text/plain": [
       "<Figure size 640x480 with 1 Axes>"
      ]
     },
     "metadata": {},
     "output_type": "display_data"
    }
   ],
   "source": [
    "sns.barplot(x='department', y='Salary', data=df, estimator='mean')\n",
    "plt.title('Average Salary by Department')\n",
    "plt.show()\n"
   ]
  },
  {
   "cell_type": "code",
   "execution_count": 71,
   "id": "a730fb45",
   "metadata": {},
   "outputs": [
    {
     "data": {
      "text/plain": [
       "department\n",
       "FINANCE      78500.0\n",
       "HR           70000.0\n",
       "IT           67500.0\n",
       "MARKETING    71500.0\n",
       "Name: Salary, dtype: float64"
      ]
     },
     "execution_count": 71,
     "metadata": {},
     "output_type": "execute_result"
    }
   ],
   "source": [
    "df.groupby('department')['Salary'].mean()"
   ]
  },
  {
   "cell_type": "code",
   "execution_count": 77,
   "id": "b467ff07",
   "metadata": {},
   "outputs": [
    {
     "data": {
      "text/plain": [
       "np.int64(2)"
      ]
     },
     "execution_count": 77,
     "metadata": {},
     "output_type": "execute_result"
    }
   ],
   "source": [
    "df['Ocupation'].value_counts()['manager']"
   ]
  },
  {
   "cell_type": "code",
   "execution_count": 79,
   "id": "3a05a609",
   "metadata": {},
   "outputs": [
    {
     "data": {
      "text/plain": [
       "<Axes: xlabel='Salary', ylabel='department'>"
      ]
     },
     "execution_count": 79,
     "metadata": {},
     "output_type": "execute_result"
    },
    {
     "data": {
      "image/png": "[encoded data removed]",
      "text/plain": [
       "<Figure size 640x480 with 1 Axes>"
      ]
     },
     "metadata": {},
     "output_type": "display_data"
    }
   ],
   "source": [
    "sns.violinplot(x='Salary',y='department',data=df)"
   ]
  },
  {
   "cell_type": "code",
   "execution_count": 82,
   "id": "b6778bea",
   "metadata": {},
   "outputs": [
    {
     "data": {
      "text/plain": [
       "<Axes: xlabel='Salary', ylabel='department'>"
      ]
     },
     "execution_count": 82,
     "metadata": {},
     "output_type": "execute_result"
    },
    {
     "data": {
      "image/png": "[encoded data removed]",
      "text/plain": [
       "<Figure size 640x480 with 1 Axes>"
      ]
     },
     "metadata": {},
     "output_type": "display_data"
    }
   ],
   "source": [
    "sns.lineplot(x='Salary',y='department',data=df,color='pink')"
   ]
  },
  {
   "cell_type": "code",
   "execution_count": 83,
   "id": "83e39355",
   "metadata": {},
   "outputs": [
    {
     "data": {
      "text/plain": [
       "<Axes: xlabel='Salary', ylabel='department'>"
      ]
     },
     "execution_count": 83,
     "metadata": {},
     "output_type": "execute_result"
    },
    {
     "data": {
      "image/png": "[encoded data removed]",
      "text/plain": [
       "<Figure size 640x480 with 1 Axes>"
      ]
     },
     "metadata": {},
     "output_type": "display_data"
    }
   ],
   "source": [
    "sns.barplot(x='Salary',y='department',data=df)"
   ]
  },
  {
   "cell_type": "code",
   "execution_count": 88,
   "id": "3f40a6b5",
   "metadata": {},
   "outputs": [
    {
     "data": {
      "text/plain": [
       "<Axes: >"
      ]
     },
     "execution_count": 88,
     "metadata": {},
     "output_type": "execute_result"
    },
    {
     "data": {
      "image/png": "[encoded data removed]",
      "text/plain": [
       "<Figure size 640x480 with 2 Axes>"
      ]
     },
     "metadata": {},
     "output_type": "display_data"
    }
   ],
   "source": [
    "numeric_df = df.select_dtypes(include='number')  # keep only numeric columns\n",
    "corr = numeric_df.corr()\n",
    "sns.heatmap(corr, annot=True, cmap='coolwarm')\n"
   ]
  },
  {
   "cell_type": "code",
   "execution_count": null,
   "id": "fd99d615",
   "metadata": {},
   "outputs": [],
   "source": []
  }
 ],
 "metadata": {
  "kernelspec": {
   "display_name": "Python 3",
   "language": "python",
   "name": "python3"
  },
  "language_info": {
   "codemirror_mode": {
    "name": "ipython",
    "version": 3
   },
   "file_extension": ".py",
   "mimetype": "text/x-python",
   "name": "python",
   "nbconvert_exporter": "python",
   "pygments_lexer": "ipython3",
   "version": "3.12.4"
  }
 },
 "nbformat": 4,
 "nbformat_minor": 5
}
