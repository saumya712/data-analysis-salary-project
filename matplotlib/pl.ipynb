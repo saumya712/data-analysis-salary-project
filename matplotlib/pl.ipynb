{
 "cells": [
  {
   "cell_type": "code",
   "execution_count": 1,
   "id": "2e08b005",
   "metadata": {},
   "outputs": [
    {
     "name": "stdout",
     "output_type": "stream",
     "text": [
      "Collecting matplotlib\n",
      "  Downloading matplotlib-3.10.3-cp312-cp312-win_amd64.whl.metadata (11 kB)\n",
      "Collecting contourpy>=1.0.1 (from matplotlib)\n",
      "  Downloading contourpy-1.3.2-cp312-cp312-win_amd64.whl.metadata (5.5 kB)\n",
      "Collecting cycler>=0.10 (from matplotlib)\n",
      "  Downloading cycler-0.12.1-py3-none-any.whl.metadata (3.8 kB)\n",
      "Collecting fonttools>=4.22.0 (from matplotlib)\n",
      "  Downloading fonttools-4.58.0-cp312-cp312-win_amd64.whl.metadata (106 kB)\n",
      "     ---------------------------------------- 0.0/106.6 kB ? eta -:--:--\n",
      "     ---------- -------------------------- 30.7/106.6 kB 640.0 kB/s eta 0:00:01\n",
      "     ------------------------------------ - 102.4/106.6 kB 1.5 MB/s eta 0:00:01\n",
      "     -------------------------------------- 106.6/106.6 kB 1.2 MB/s eta 0:00:00\n",
      "Collecting kiwisolver>=1.3.1 (from matplotlib)\n",
      "  Downloading kiwisolver-1.4.8-cp312-cp312-win_amd64.whl.metadata (6.3 kB)\n",
      "Requirement already satisfied: numpy>=1.23 in c:\\users\\saumya pathak\\appdata\\local\\programs\\python\\python312\\lib\\site-packages (from matplotlib) (2.2.6)\n",
      "Requirement already satisfied: packaging>=20.0 in c:\\users\\saumya pathak\\appdata\\roaming\\python\\python312\\site-packages (from matplotlib) (25.0)\n",
      "Collecting pillow>=8 (from matplotlib)\n",
      "  Downloading pillow-11.2.1-cp312-cp312-win_amd64.whl.metadata (9.1 kB)\n",
      "Collecting pyparsing>=2.3.1 (from matplotlib)\n",
      "  Downloading pyparsing-3.2.3-py3-none-any.whl.metadata (5.0 kB)\n",
      "Requirement already satisfied: python-dateutil>=2.7 in c:\\users\\saumya pathak\\appdata\\roaming\\python\\python312\\site-packages (from matplotlib) (2.9.0.post0)\n",
      "Requirement already satisfied: six>=1.5 in c:\\users\\saumya pathak\\appdata\\roaming\\python\\python312\\site-packages (from python-dateutil>=2.7->matplotlib) (1.17.0)\n",
      "Downloading matplotlib-3.10.3-cp312-cp312-win_amd64.whl (8.1 MB)\n",
      "   ---------------------------------------- 0.0/8.1 MB ? eta -:--:--\n",
      "    --------------------------------------- 0.2/8.1 MB 4.5 MB/s eta 0:00:02\n",
      "   -- ------------------------------------- 0.5/8.1 MB 6.0 MB/s eta 0:00:02\n",
      "   ---- ----------------------------------- 1.0/8.1 MB 6.9 MB/s eta 0:00:02\n",
      "   ------- -------------------------------- 1.5/8.1 MB 8.0 MB/s eta 0:00:01\n",
      "   ---------- ----------------------------- 2.1/8.1 MB 8.8 MB/s eta 0:00:01\n",
      "   ----------- ---------------------------- 2.3/8.1 MB 9.3 MB/s eta 0:00:01\n",
      "   ----------- ---------------------------- 2.4/8.1 MB 8.1 MB/s eta 0:00:01\n",
      "   -------------- ------------------------- 2.9/8.1 MB 7.8 MB/s eta 0:00:01\n",
      "   --------------- ------------------------ 3.1/8.1 MB 7.9 MB/s eta 0:00:01\n",
      "   ------------------- -------------------- 4.0/8.1 MB 8.7 MB/s eta 0:00:01\n",
      "   -------------------- ------------------- 4.1/8.1 MB 8.1 MB/s eta 0:00:01\n",
      "   ---------------------- ----------------- 4.6/8.1 MB 8.6 MB/s eta 0:00:01\n",
      "   ------------------------ --------------- 4.9/8.1 MB 8.3 MB/s eta 0:00:01\n",
      "   ------------------------- -------------- 5.2/8.1 MB 7.9 MB/s eta 0:00:01\n",
      "   --------------------------- ------------ 5.6/8.1 MB 7.9 MB/s eta 0:00:01\n",
      "   ---------------------------- ----------- 5.7/8.1 MB 7.8 MB/s eta 0:00:01\n",
      "   ------------------------------ --------- 6.1/8.1 MB 7.6 MB/s eta 0:00:01\n",
      "   ------------------------------- -------- 6.3/8.1 MB 7.6 MB/s eta 0:00:01\n",
      "   -------------------------------- ------- 6.6/8.1 MB 7.4 MB/s eta 0:00:01\n",
      "   -------------------------------- ------- 6.6/8.1 MB 7.4 MB/s eta 0:00:01\n",
      "   ---------------------------------- ----- 6.9/8.1 MB 7.1 MB/s eta 0:00:01\n",
      "   ----------------------------------- ---- 7.2/8.1 MB 6.9 MB/s eta 0:00:01\n",
      "   ------------------------------------ --- 7.3/8.1 MB 6.7 MB/s eta 0:00:01\n",
      "   ------------------------------------ --- 7.4/8.1 MB 6.6 MB/s eta 0:00:01\n",
      "   ------------------------------------- -- 7.5/8.1 MB 6.4 MB/s eta 0:00:01\n",
      "   ------------------------------------- -- 7.7/8.1 MB 6.4 MB/s eta 0:00:01\n",
      "   -------------------------------------- - 7.8/8.1 MB 6.2 MB/s eta 0:00:01\n",
      "   ---------------------------------------  7.9/8.1 MB 6.1 MB/s eta 0:00:01\n",
      "   ---------------------------------------  8.0/8.1 MB 6.1 MB/s eta 0:00:01\n",
      "   ---------------------------------------  8.1/8.1 MB 5.9 MB/s eta 0:00:01\n",
      "   ---------------------------------------- 8.1/8.1 MB 5.7 MB/s eta 0:00:00\n",
      "Downloading contourpy-1.3.2-cp312-cp312-win_amd64.whl (223 kB)\n",
      "   ---------------------------------------- 0.0/223.0 kB ? eta -:--:--\n",
      "   -------------- ------------------------- 81.9/223.0 kB 2.3 MB/s eta 0:00:01\n",
      "   --------------------------------- ------ 184.3/223.0 kB 2.2 MB/s eta 0:00:01\n",
      "   ---------------------------------------- 223.0/223.0 kB 2.0 MB/s eta 0:00:00\n",
      "Downloading cycler-0.12.1-py3-none-any.whl (8.3 kB)\n",
      "Downloading fonttools-4.58.0-cp312-cp312-win_amd64.whl (2.2 MB)\n",
      "   ---------------------------------------- 0.0/2.2 MB ? eta -:--:--\n",
      "   -- ------------------------------------- 0.1/2.2 MB 3.5 MB/s eta 0:00:01\n",
      "   --- ------------------------------------ 0.2/2.2 MB 2.5 MB/s eta 0:00:01\n",
      "   ----- ---------------------------------- 0.3/2.2 MB 2.5 MB/s eta 0:00:01\n",
      "   ------- -------------------------------- 0.4/2.2 MB 2.4 MB/s eta 0:00:01\n",
      "   --------- ------------------------------ 0.5/2.2 MB 2.3 MB/s eta 0:00:01\n",
      "   ----------- ---------------------------- 0.6/2.2 MB 2.3 MB/s eta 0:00:01\n",
      "   ------------- -------------------------- 0.7/2.2 MB 2.3 MB/s eta 0:00:01\n",
      "   --------------- ------------------------ 0.8/2.2 MB 2.3 MB/s eta 0:00:01\n",
      "   ----------------- ---------------------- 1.0/2.2 MB 2.3 MB/s eta 0:00:01\n",
      "   ------------------- -------------------- 1.1/2.2 MB 2.4 MB/s eta 0:00:01\n",
      "   --------------------- ------------------ 1.2/2.2 MB 2.4 MB/s eta 0:00:01\n",
      "   ----------------------- ---------------- 1.3/2.2 MB 2.3 MB/s eta 0:00:01\n",
      "   ------------------------- -------------- 1.4/2.2 MB 2.3 MB/s eta 0:00:01\n",
      "   --------------------------- ------------ 1.5/2.2 MB 2.4 MB/s eta 0:00:01\n",
      "   ----------------------------- ---------- 1.6/2.2 MB 2.4 MB/s eta 0:00:01\n",
      "   ------------------------------- -------- 1.8/2.2 MB 2.4 MB/s eta 0:00:01\n",
      "   ---------------------------------- ----- 1.9/2.2 MB 2.4 MB/s eta 0:00:01\n",
      "   ------------------------------------ --- 2.0/2.2 MB 2.4 MB/s eta 0:00:01\n",
      "   -------------------------------------- - 2.1/2.2 MB 2.4 MB/s eta 0:00:01\n",
      "   ---------------------------------------  2.2/2.2 MB 2.4 MB/s eta 0:00:01\n",
      "   ---------------------------------------- 2.2/2.2 MB 2.3 MB/s eta 0:00:00\n",
      "Downloading kiwisolver-1.4.8-cp312-cp312-win_amd64.whl (71 kB)\n",
      "   ---------------------------------------- 0.0/71.9 kB ? eta -:--:--\n",
      "   ---------------------------------------- 71.9/71.9 kB 3.9 MB/s eta 0:00:00\n",
      "Downloading pillow-11.2.1-cp312-cp312-win_amd64.whl (2.7 MB)\n",
      "   ---------------------------------------- 0.0/2.7 MB ? eta -:--:--\n",
      "   - -------------------------------------- 0.1/2.7 MB 2.6 MB/s eta 0:00:01\n",
      "   --- ------------------------------------ 0.2/2.7 MB 2.5 MB/s eta 0:00:01\n",
      "   ----- ---------------------------------- 0.4/2.7 MB 2.6 MB/s eta 0:00:01\n",
      "   ------- -------------------------------- 0.5/2.7 MB 2.7 MB/s eta 0:00:01\n",
      "   --------- ------------------------------ 0.6/2.7 MB 2.7 MB/s eta 0:00:01\n",
      "   ----------- ---------------------------- 0.8/2.7 MB 2.7 MB/s eta 0:00:01\n",
      "   ------------- -------------------------- 0.9/2.7 MB 2.7 MB/s eta 0:00:01\n",
      "   --------------- ------------------------ 1.0/2.7 MB 2.8 MB/s eta 0:00:01\n",
      "   ----------------- ---------------------- 1.2/2.7 MB 2.8 MB/s eta 0:00:01\n",
      "   ------------------- -------------------- 1.3/2.7 MB 2.8 MB/s eta 0:00:01\n",
      "   --------------------- ------------------ 1.5/2.7 MB 2.8 MB/s eta 0:00:01\n",
      "   ----------------------- ---------------- 1.6/2.7 MB 2.8 MB/s eta 0:00:01\n",
      "   -------------------------- ------------- 1.8/2.7 MB 2.9 MB/s eta 0:00:01\n",
      "   ---------------------------- ----------- 1.9/2.7 MB 2.9 MB/s eta 0:00:01\n",
      "   ------------------------------ --------- 2.0/2.7 MB 2.9 MB/s eta 0:00:01\n",
      "   -------------------------------- ------- 2.2/2.7 MB 2.9 MB/s eta 0:00:01\n",
      "   ---------------------------------- ----- 2.3/2.7 MB 2.9 MB/s eta 0:00:01\n",
      "   ------------------------------------ --- 2.5/2.7 MB 2.9 MB/s eta 0:00:01\n",
      "   ---------------------------------------  2.6/2.7 MB 3.0 MB/s eta 0:00:01\n",
      "   ---------------------------------------  2.7/2.7 MB 2.9 MB/s eta 0:00:01\n",
      "   ---------------------------------------- 2.7/2.7 MB 2.8 MB/s eta 0:00:00\n",
      "Downloading pyparsing-3.2.3-py3-none-any.whl (111 kB)\n",
      "   ---------------------------------------- 0.0/111.1 kB ? eta -:--:--\n",
      "   ---------------------------------------- 111.1/111.1 kB 3.3 MB/s eta 0:00:00\n",
      "Installing collected packages: pyparsing, pillow, kiwisolver, fonttools, cycler, contourpy, matplotlib\n",
      "Successfully installed contourpy-1.3.2 cycler-0.12.1 fonttools-4.58.0 kiwisolver-1.4.8 matplotlib-3.10.3 pillow-11.2.1 pyparsing-3.2.3\n",
      "Note: you may need to restart the kernel to use updated packages.\n"
     ]
    },
    {
     "name": "stderr",
     "output_type": "stream",
     "text": [
      "\n",
      "[notice] A new release of pip is available: 24.0 -> 25.1.1\n",
      "[notice] To update, run: python.exe -m pip install --upgrade pip\n"
     ]
    }
   ],
   "source": [
    "pip install matplotlib"
   ]
  },
  {
   "cell_type": "code",
   "execution_count": 5,
   "id": "e8cad465",
   "metadata": {},
   "outputs": [],
   "source": [
    "import matplotlib.pyplot as plt"
   ]
  },
  {
   "cell_type": "code",
   "execution_count": 10,
   "id": "97dd142d",
   "metadata": {},
   "outputs": [
    {
     "data": {
      "text/plain": [
       "Text(0, 0.5, 'y-axis')"
      ]
     },
     "execution_count": 10,
     "metadata": {},
     "output_type": "execute_result"
    },
    {
     "data": {
      "image/png": "[encoded data removed]",
      "text/plain": [
       "<Figure size 640x480 with 1 Axes>"
      ]
     },
     "metadata": {},
     "output_type": "display_data"
    }
   ],
   "source": [
    "x=[1,2,3,4]\n",
    "y=[5,1,3,9]\n",
    "plt.plot(x,y,color='blue',linestyle=':',marker='o')\n",
    "plt.xlabel('x-axis')\n",
    "plt.ylabel('y-axis')"
   ]
  },
  {
   "cell_type": "code",
   "execution_count": null,
   "id": "7d79d4ed",
   "metadata": {},
   "outputs": [],
   "source": []
  },
  {
   "cell_type": "code",
   "execution_count": null,
   "id": "0f6d1fec",
   "metadata": {},
   "outputs": [],
   "source": []
  }
 ],
 "metadata": {
  "kernelspec": {
   "display_name": "Python 3",
   "language": "python",
   "name": "python3"
  },
  "language_info": {
   "codemirror_mode": {
    "name": "ipython",
    "version": 3
   },
   "file_extension": ".py",
   "mimetype": "text/x-python",
   "name": "python",
   "nbconvert_exporter": "python",
   "pygments_lexer": "ipython3",
   "version": "3.12.4"
  }
 },
 "nbformat": 4,
 "nbformat_minor": 5
}
